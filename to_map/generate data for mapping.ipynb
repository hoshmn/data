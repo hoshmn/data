{
 "cells": [
  {
   "cell_type": "code",
   "execution_count": 139,
   "metadata": {},
   "outputs": [],
   "source": [
    "import os\n",
    "import pandas as pd\n",
    "import geopandas as gp"
   ]
  },
  {
   "cell_type": "code",
   "execution_count": 140,
   "metadata": {},
   "outputs": [],
   "source": [
    "shapes = gp.read_file('electoral_precincts/2018Precincts.shp')\n",
    "shapes = shapes[['geometry']]\n",
    "shapes.reset_index(inplace=True, drop=True)\n",
    "\n",
    "part = pd.read_csv('../recent_runoffs/2018_november_cleaned/all_precincts_participation.csv')\n",
    "part = pd.read_csv('../recent_runoffs/2018_november_cleaned/all_precincts_participation.csv')\n",
    "\n",
    "res = pd.read_csv('../2020_november/all_precincts_joined/US Senate (Loeffler) - Special.csv')\n",
    "\n",
    "uni_index = pd.read_csv('unified_precinct_index.csv')"
   ]
  },
  {
   "cell_type": "markdown",
   "metadata": {},
   "source": [
    "### merge shapes to old runoff participation data"
   ]
  },
  {
   "cell_type": "code",
   "execution_count": 141,
   "metadata": {},
   "outputs": [],
   "source": [
    "geo_precs = pd.merge(uni_index, shapes, left_on='SHAPE_idx', right_index=True)\n",
    "part = part[part.columns[3:]]\n",
    "part = pd.merge(geo_precs, part, left_on='PART_idx', right_index=True, how='left')\n",
    "\n",
    "part = part[[c for c in part.columns if '_idx' not in c]]"
   ]
  },
  {
   "cell_type": "markdown",
   "metadata": {},
   "source": [
    "### merge shapes to 2020 election results data"
   ]
  },
  {
   "cell_type": "code",
   "execution_count": 142,
   "metadata": {},
   "outputs": [],
   "source": [
    "geo_precs = pd.merge(uni_index, shapes, left_on='SHAPE_idx', right_index=True)\n",
    "res = res[res.columns[2:]]\n",
    "res = pd.merge(geo_precs, res, left_on='RES_idx', right_index=True)\n",
    "\n",
    "res = res[[c for c in res.columns if '_idx' not in c]]"
   ]
  },
  {
   "cell_type": "code",
   "execution_count": null,
   "metadata": {},
   "outputs": [],
   "source": []
  },
  {
   "cell_type": "markdown",
   "metadata": {},
   "source": [
    "# save"
   ]
  },
  {
   "cell_type": "code",
   "execution_count": 147,
   "metadata": {},
   "outputs": [],
   "source": [
    "target_dir = 'cleaned/2018_precinct_dropoffs/'\n",
    "\n",
    "# save cols:\n",
    "t_cols = list(part.columns[:3])+[c for c in part.columns if 'pctChange_nV' in c]+['geometry']\n",
    "\n",
    "\n",
    "def js_county(county):\n",
    "    return '-'.join(county.lower().split())\n",
    "\n",
    "for county in sorted(part.county.unique()):\n",
    "    t_cols = list(part.columns[:3])+list(part.columns[4:])+['geometry']\n",
    "    \n",
    "    c_data = part[part.county==county]\n",
    "    c_data = c_data[t_cols]\n",
    "    \n",
    "    c_data = gp.GeoDataFrame(c_data)\n",
    "    fpath = os.path.join(target_dir, js_county(county)+'.geojson')\n",
    "    c_data = gp.GeoDataFrame(c_data)\n",
    "    c_data.to_file(fpath, driver='GeoJSON')"
   ]
  },
  {
   "cell_type": "code",
   "execution_count": 146,
   "metadata": {},
   "outputs": [
    {
     "data": {
      "text/plain": [
       "['Init_nRegistered_Black_Male',\n",
       " 'Init_nVoted_Black_Male',\n",
       " 'Init_pctVoted_Black_Male',\n",
       " 'Runoff_nRegistered_Black_Male',\n",
       " 'Runoff_nVoted_Black_Male',\n",
       " 'Runoff_pctVoted_Black_Male',\n",
       " 'Delta_nVoted_Black_Male',\n",
       " 'pctChange_nVoted_Black_Male',\n",
       " 'Delta_nRegistered_Black_Male',\n",
       " 'pctChange_nRegistered_Black_Male']"
      ]
     },
     "execution_count": 146,
     "metadata": {},
     "output_type": "execute_result"
    }
   ],
   "source": [
    "[c for c in part.columns if 'Black_Male' in c]"
   ]
  },
  {
   "cell_type": "code",
   "execution_count": null,
   "metadata": {},
   "outputs": [],
   "source": []
  }
 ],
 "metadata": {
  "kernelspec": {
   "display_name": "Python 3",
   "language": "python",
   "name": "python3"
  },
  "language_info": {
   "codemirror_mode": {
    "name": "ipython",
    "version": 3
   },
   "file_extension": ".py",
   "mimetype": "text/x-python",
   "name": "python",
   "nbconvert_exporter": "python",
   "pygments_lexer": "ipython3",
   "version": "3.8.5"
  }
 },
 "nbformat": 4,
 "nbformat_minor": 4
}
