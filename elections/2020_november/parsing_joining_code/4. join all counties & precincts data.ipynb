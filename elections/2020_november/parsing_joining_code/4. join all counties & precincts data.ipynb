{
 "cells": [
  {
   "cell_type": "markdown",
   "metadata": {},
   "source": [
    "#### imports & utility funcs"
   ]
  },
  {
   "cell_type": "code",
   "execution_count": null,
   "metadata": {},
   "outputs": [],
   "source": [
    "import re\n",
    "import os\n",
    "import pandas as pd\n",
    "from tqdm.notebook import tqdm\n",
    "\n",
    "def ld_nh(path):\n",
    "    for f in os.listdir(path): if not f.startswith('.'): yield f\n",
    "def listdir_nohidden(path):\n",
    "    return list(ld_nh(path))\n",
    "\n",
    "data_dir = 'raw'\n",
    "files = listdir_nohidden(data_dir)"
   ]
  },
  {
   "cell_type": "markdown",
   "metadata": {},
   "source": [
    "### data source: https://results.enr.clarityelections.com/GA/105369/web.264614/\n",
    "\n",
    "work with the singular incoming .txt file by manually delimited lines (`'\\n'`) and cells (`' '*2`)"
   ]
  },
  {
   "cell_type": "markdown",
   "metadata": {},
   "source": [
    "# load & join parsed data\n",
    "\n",
    "parsed in notebook `3.`"
   ]
  },
  {
   "cell_type": "code",
   "execution_count": null,
   "metadata": {},
   "outputs": [],
   "source": [
    "clean_dir = 'clean_by_county'\n",
    "counties = listdir_nohidden(clean_dir)"
   ]
  },
  {
   "cell_type": "markdown",
   "metadata": {},
   "source": [
    "### compile data for one race\n",
    "## SET THE RACE NAME HERE, then run all cells below:"
   ]
  },
  {
   "cell_type": "code",
   "execution_count": null,
   "metadata": {},
   "outputs": [],
   "source": [
    "race_hotword = 'US Senate (Perdue)' "
   ]
  },
  {
   "cell_type": "markdown",
   "metadata": {},
   "source": [
    "#### id all files for the target race (for all counties)\n"
   ]
  },
  {
   "cell_type": "code",
   "execution_count": null,
   "metadata": {},
   "outputs": [],
   "source": [
    "race_files = []\n",
    "for county in counties:\n",
    "    fpath = os.path.join(clean_dir, county)\n",
    "    county_files = listdir_nohidden(fpath)\n",
    "    found = False\n",
    "    for f in county_files:\n",
    "        if race_hotword in f:\n",
    "            race_files.append( os.path.join(fpath, f) )\n",
    "            found = True\n",
    "    if not found: print('Not found:', county)\n",
    "\n",
    "# concat data from all counties\n",
    "merged = pd.concat( [pd.read_csv(f) for f in race_files] )\n",
    "merged.reset_index(drop=True, inplace=True)"
   ]
  },
  {
   "cell_type": "markdown",
   "metadata": {},
   "source": [
    "### fix Lieberman typo\n",
    "combine votes for lieberman/lie**r**berman"
   ]
  },
  {
   "cell_type": "code",
   "execution_count": null,
   "metadata": {},
   "outputs": [],
   "source": [
    "# ADD VOTES FOR MATT lie*R*berman to MATT LIEBERMAN:\n",
    "def fix_lieberman(merged):\n",
    "    \n",
    "    # fill missing good spellings values from bad spellings column \n",
    "    good_spell = [c for c in merged.columns if 'Lieber' in c]\n",
    "    bad_spell = [c for c in merged.columns if 'Lierber' in c]\n",
    "    merged[good_spell] = merged[good_spell].fillna(merged[bad_spell])\n",
    "    \n",
    "    def fillna_info(c):\n",
    "        n = c.split('(')[0].strip()\n",
    "        n = n[:10].replace('r', 'R') + n[10:]\n",
    "        print('Filling', merged[c].isna().sum(), f'nan values for {n}...')\n",
    "        merged[c] = merged[c].fillna(0)\n",
    "        return merged\n",
    "    \n",
    "    true = 'Matt Lieberman (Dem)_Choice Total'\n",
    "    typo = 'Matt Lierberman (Dem)_Choice Total'\n",
    "    merged = fillna_info(true)\n",
    "    merged = fillna_info(typo)\n",
    "    merged[true] += merged[typo]\n",
    "\n",
    "    print(f'+ {int(sum(merged[true])-sum(merged[typo]))} correct votes'.upper())\n",
    "    print(f'     {int(sum(merged[typo]))} misspelled'.upper())\n",
    "    print('—'*24)\n",
    "    print(f'  {int(sum(merged[true]))} total votes'.upper())\n",
    "    return merged\n",
    "\n",
    "if 'Loeffler' in race_hotword:\n",
    "    merged = fix_lieberman(merged)"
   ]
  },
  {
   "cell_type": "markdown",
   "metadata": {},
   "source": [
    "## Fix horizontal value shift (errors in .txt delimiter) \n",
    "\n",
    "**by index**...\n",
    " In a few rows, all the values are shifted over to the left because the registered voter number was swallowed by the preceding \"precinct\" column\n",
    " \n",
    " So extract the precinct number with regex, then shift all the columns over the right. \n",
    " \n",
    " These rows are detectable becaus the \"Total\" column is empty, and the values are visibly shifted."
   ]
  },
  {
   "cell_type": "code",
   "execution_count": null,
   "metadata": {},
   "outputs": [],
   "source": [
    "for i in merged[merged.Total.isna()].index:\n",
    "    #print(i, merged.loc[i, 'County'], merged.loc[i, 'Precinct'])\n",
    "    for feat, val in dict(merged.loc[i]).items():\n",
    "        if feat=='Precinct':\n",
    "            ns_found = re.findall('[\\d]*', val)\n",
    "            n_registered = [n for n in ns_found if n!=''][-1]\n",
    "            #print(n_registered)\n",
    "        #print(feat, val)\n",
    "        \n",
    "    # shift all values over by one.\n",
    "    merged.iloc[i:i+1, 2:] = merged.iloc[i:i+1, 2:].shift(1, axis=1)\n",
    "    \n",
    "    # add re-persed registered number\n",
    "    merged.iloc[i:i+1, 2] = n_registered"
   ]
  },
  {
   "cell_type": "markdown",
   "metadata": {},
   "source": [
    "## identify failed rows (by vote total)\n",
    "\n",
    "(check if all candidates' votes add up correctly in each precinct)\n",
    "\n",
    "#### this loop also fixes things for lieberman in a few areas"
   ]
  },
  {
   "cell_type": "code",
   "execution_count": null,
   "metadata": {},
   "outputs": [],
   "source": [
    "def verify_totals(merged, verb=False):\n",
    "    bad_math = []\n",
    "    totals = merged[[c for c in merged.columns if 'total' in c.lower()]]\n",
    "    for ridx in totals.index:\n",
    "        if str(totals.loc[ridx, 'Total']).lower()=='nan':\n",
    "            if verb: print('NaN val.:', ridx)\n",
    "        elif totals.iloc[ridx].sum()/2 != totals.loc[ridx, 'Total']:\n",
    "            if verb: print('Bad Math:', ridx, '|', totals.iloc[ridx].sum()/2, '!=', totals.loc[ridx, 'Total'])\n",
    "            bad_math.append(ridx)\n",
    "    return bad_math\n",
    "\n",
    "bad_math = verify_totals(merged)"
   ]
  },
  {
   "cell_type": "code",
   "execution_count": null,
   "metadata": {},
   "outputs": [],
   "source": [
    "# define candidates in this race\n",
    "cands = []\n",
    "for c in merged.columns:\n",
    "    if ')_' in c:\n",
    "        cands.append(c.split('_')[0])      \n",
    "cands = list(set(cands))\n",
    "if 'Loeff' in race_hotword: cands.remove('Matt Lierberman (Dem)')\n",
    "\n",
    "\n",
    "# define proper and typo version of MATT LIE(r)BERMAN\n",
    "# -- to replace values in the correct spelling column when necessary\n",
    "good_spell = [c for c in merged.columns if 'Lieber' in c]\n",
    "bad_spell = [c for c in merged.columns if 'Lierber' in c]\n",
    "\n",
    "\n",
    "for i in tqdm(merged.index): # iterate precincts\n",
    "    for cand in cands: # iterate all candidates in this race\n",
    "        cand_cols = [c for c in merged.columns if cand in c]\n",
    "        \n",
    "        disag_cols = cand_cols[:-1] # names of cols of vote types\n",
    "        cand_t_col = cand_cols[-1] # name of col for total votes\n",
    "        \n",
    "        total_init = merged.iloc[i:i+1][cand_t_col].values[0]\n",
    "        sub_counts = merged.iloc[i:i+1][disag_cols]\n",
    "        \n",
    "        # if values are missing for the correct spelling of Lieberman...\n",
    "        if i in bad_math:\n",
    "            # just use the mispelled values directly (instead of the calced, added version)\n",
    "            merged.loc[i, good_spell] = merged.loc[i, bad_spell].values\n",
    "            \n",
    "        sub_counts = merged.iloc[i:i+1][disag_cols]\n",
    "        total_calc = sub_counts.values.sum()\n",
    "        \n",
    "        if total_init != total_calc:\n",
    "\n",
    "            print()\n",
    "            print('index:', i, '- BAD MATH!')\n",
    "            print('   ', cand, '———', total_init, '!=', total_calc)\n",
    "\n",
    "# drop the misspelled MATT LIERB as it is no longer needed \n",
    "for c in merged.columns:\n",
    "    if 'Lierb' in c or 'Unnamed' in c: # drop the old typo column\n",
    "        merged.drop(c, axis=1, inplace=True)\n",
    "        continue\n",
    "verify_totals(merged)\n",
    "\n",
    "merged = merged.rename(columns={'Total':'Total Votes'})"
   ]
  },
  {
   "cell_type": "markdown",
   "metadata": {},
   "source": [
    "#### if no output above, all candidate totals add up in every precinct.\n",
    "\n",
    "# save\n"
   ]
  },
  {
   "cell_type": "code",
   "execution_count": null,
   "metadata": {},
   "outputs": [],
   "source": [
    "# convert to numeric where possible\n",
    "for c in merged.columns:\n",
    "    try:  merged[c] = merged[c].astype(float)\n",
    "    except: pass"
   ]
  },
  {
   "cell_type": "markdown",
   "metadata": {},
   "source": [
    "### with vote types"
   ]
  },
  {
   "cell_type": "code",
   "execution_count": null,
   "metadata": {},
   "outputs": [],
   "source": [
    "# PRECINCT DATA\n",
    "merged.to_csv('all_precincts_joined/'+race_hotword+'.csv', index=False)"
   ]
  },
  {
   "cell_type": "code",
   "execution_count": null,
   "metadata": {},
   "outputs": [],
   "source": [
    "# GROUPBY FOR COUNTY DATA\n",
    "num_cols = merged._get_numeric_data().columns\n",
    "assert (len(num_cols)-2)%5==0\n",
    "counties = merged.groupby('County').sum()\n",
    "counties.to_csv('all_counties_joined/'+race_hotword+'.csv')"
   ]
  },
  {
   "cell_type": "markdown",
   "metadata": {},
   "source": [
    "### drop vote type columns"
   ]
  },
  {
   "cell_type": "code",
   "execution_count": null,
   "metadata": {},
   "outputs": [],
   "source": [
    "# PRECINCT DATA\n",
    "for col in merged.columns:\n",
    "    for cand in cands:\n",
    "        if cand in col and 'total' not in col.lower():\n",
    "            merged.drop(col, axis=1, inplace=True)\n",
    "merged.to_csv('all_precincts_joined/'+race_hotword+'_with_vote_types.csv', index=False)"
   ]
  },
  {
   "cell_type": "code",
   "execution_count": null,
   "metadata": {},
   "outputs": [],
   "source": [
    "# COUNTY GROUPBY'D DATA\n",
    "for col in counties.columns:\n",
    "    for cand in cands:\n",
    "        if cand in col and 'total' not in col.lower():\n",
    "            counties.drop(col, axis=1, inplace=True)\n",
    "counties.to_csv('all_counties_joined/'+race_hotword+'_with_vote_types.csv')"
   ]
  }
 ],
 "metadata": {
  "kernelspec": {
   "display_name": "Python 3",
   "language": "python",
   "name": "python3"
  },
  "language_info": {
   "codemirror_mode": {
    "name": "ipython",
    "version": 3
   },
   "file_extension": ".py",
   "mimetype": "text/x-python",
   "name": "python",
   "nbconvert_exporter": "python",
   "pygments_lexer": "ipython3",
   "version": "3.8.5"
  }
 },
 "nbformat": 4,
 "nbformat_minor": 4
}
